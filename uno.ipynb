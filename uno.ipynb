{
 "cells": [
  {
   "cell_type": "code",
   "execution_count": 1,
   "metadata": {},
   "outputs": [],
   "source": [
    "import numpy as np\n",
    "import pandas as pd\n",
    "import matplotlib.pyplot as plt\n",
    "import tqdm\n",
    "\n",
    "from Uno.Game import Game"
   ]
  },
  {
   "attachments": {},
   "cell_type": "markdown",
   "metadata": {},
   "source": [
    "## Manually Simulate a Game\n",
    "(for your fun/leisure)  \n",
    "this code is also used to debug game rules"
   ]
  },
  {
   "cell_type": "code",
   "execution_count": 2,
   "outputs": [],
   "source": [
    "from Players.WDSRVCW4_Player import WDSRVCW4_Player"
   ],
   "metadata": {
    "collapsed": false
   }
  },
  {
   "cell_type": "code",
   "execution_count": 3,
   "metadata": {},
   "outputs": [
    {
     "name": "stdout",
     "output_type": "stream",
     "text": [
      "\n",
      "Deck: [BLUE N5,GREEN N9,YELLOW N3,RED N8,YELLOW N1]\n",
      "Discard: []\n",
      "\n",
      "Turn: 0\n",
      "0:\t7 [YELLOW N6,YELLOW N5,YELLOW DRAW2,RED N2,GREEN N0,RED N7,GREEN N6]\n",
      "1:\t7 [BLUE N4,GREEN N1,YELLOW N9,BLUE N2,BLUE N0,BLUE N2,BLUE N1]\n",
      "2:\t7 [GREEN N5,BLUE N3,GREEN N2,GREEN DRAW2,BLUE N4,GREEN N2,YELLOW N5]\n",
      "3:\t7 [BLUE DRAW2,RED N1,RED N1,BLUE SKIP,YELLOW N2,RED REV,BLUE REV]\n",
      "        \n"
     ]
    }
   ],
   "source": [
    "# set up the players\n",
    "players = [WDSRVCW4_Player(), WDSRVCW4_Player(), WDSRVCW4_Player(), WDSRVCW4_Player()]\n",
    "\n",
    "# create a game (with 381 as the random seed)\n",
    "#   change the random seed to get a new game\n",
    "\n",
    "#   when the seed is 787 and all 4 players are WDSRVCW4_Player\n",
    "#       the game lasts a long time\n",
    "game = Game(players, 381)\n",
    "print(game)"
   ]
  },
  {
   "cell_type": "code",
   "execution_count": 4,
   "metadata": {},
   "outputs": [
    {
     "name": "stdout",
     "output_type": "stream",
     "text": [
      "\n",
      "Deck: [GREEN N9,YELLOW N3,RED N8,YELLOW N1,YELLOW N4]\n",
      "Discard: [BLUE N5]\n",
      "\n",
      "Turn: 0\n",
      "0:\t7 [YELLOW N6,YELLOW N5,YELLOW DRAW2,RED N2,GREEN N0,RED N7,GREEN N6]\n",
      "1:\t7 [BLUE N4,GREEN N1,YELLOW N9,BLUE N2,BLUE N0,BLUE N2,BLUE N1]\n",
      "2:\t7 [GREEN N5,BLUE N3,GREEN N2,GREEN DRAW2,BLUE N4,GREEN N2,YELLOW N5]\n",
      "3:\t7 [BLUE DRAW2,RED N1,RED N1,BLUE SKIP,YELLOW N2,RED REV,BLUE REV]\n",
      "        \n"
     ]
    }
   ],
   "source": [
    "# run the setup step\n",
    "game.setup_round()\n",
    "print(game)"
   ]
  },
  {
   "cell_type": "code",
   "execution_count": 5,
   "metadata": {},
   "outputs": [
    {
     "name": "stdout",
     "output_type": "stream",
     "text": [
      "\n",
      "Deck: [GREEN N9,YELLOW N3,RED N8,YELLOW N1,YELLOW N4]\n",
      "Discard: [YELLOW N5,BLUE N5]\n",
      "\n",
      "Turn: 1\n",
      "0:\t6 [YELLOW DRAW2,YELLOW N6,RED N2,GREEN N0,RED N7,GREEN N6]\n",
      "1:\t7 [BLUE N4,GREEN N1,YELLOW N9,BLUE N2,BLUE N0,BLUE N2,BLUE N1]\n",
      "2:\t7 [GREEN N5,BLUE N3,GREEN N2,GREEN DRAW2,BLUE N4,GREEN N2,YELLOW N5]\n",
      "3:\t7 [BLUE DRAW2,RED N1,RED N1,BLUE SKIP,YELLOW N2,RED REV,BLUE REV]\n",
      "        \n"
     ]
    }
   ],
   "source": [
    "# to play more rounds:\n",
    "#  please re-run this cell until a player runs out of cards\n",
    "\n",
    "# play rounds until a winner emerges\n",
    "winner = game.round()\n",
    "print(game)\n",
    "if winner != -1:\n",
    "    print('WINNER: ', winner)"
   ]
  },
  {
   "attachments": {},
   "cell_type": "markdown",
   "metadata": {},
   "source": [
    "# Sampling"
   ]
  },
  {
   "cell_type": "code",
   "execution_count": 6,
   "metadata": {},
   "outputs": [],
   "source": [
    "from Players.DSRVCW4W_Player import DSRVCW4W_Player\n",
    "from Players.DSRCVW4W_Player import DSRCVW4W_Player\n",
    "from Players.DSRCW4WV_Player import DSRCW4WV_Player\n",
    "from Players.DSRCW4VW_Player import DSRCW4VW_Player"
   ]
  },
  {
   "cell_type": "code",
   "execution_count": 7,
   "outputs": [],
   "source": [
    "N_SAMPLES = 10000\n",
    "N_EXPERIMENTS = 10"
   ],
   "metadata": {
    "collapsed": false
   }
  },
  {
   "cell_type": "code",
   "execution_count": 8,
   "outputs": [],
   "source": [
    "def play_game(your_strategy, opponent_strategy, n_players=4):\n",
    "    # set up the players\n",
    "    players = [None]*n_players\n",
    "    players[0] = your_strategy()\n",
    "    for i in range(1, n_players):\n",
    "        players[i] = opponent_strategy()\n",
    "    # create a game\n",
    "    #   no seed for maximum randomness\n",
    "    game = Game(players, None)\n",
    "    game.setup_round()\n",
    "    # play rounds until a winner emerges\n",
    "    winner = game.round()\n",
    "    while winner == -1:\n",
    "        winner = game.round()\n",
    "    return winner"
   ],
   "metadata": {
    "collapsed": false
   }
  },
  {
   "cell_type": "markdown",
   "source": [
    "### Plot 10 Time Series of Win %s"
   ],
   "metadata": {
    "collapsed": false
   }
  },
  {
   "cell_type": "code",
   "execution_count": 9,
   "outputs": [],
   "source": [
    "def win_percent_ts(your_strategy, opponent_strategy, n_players=4,\n",
    "                   n_samples=100, n_series=10):\n",
    "    percents = np.zeros((n_series, n_samples))\n",
    "\n",
    "    for ser in range(n_series):\n",
    "        your_wins = 0\n",
    "        for i in range(n_samples):\n",
    "            if play_game(your_strategy, opponent_strategy, n_players) == 0:\n",
    "                your_wins += 1\n",
    "            percents[ser, i] = your_wins/(i+1)\n",
    "\n",
    "    return percents"
   ],
   "metadata": {
    "collapsed": false
   }
  },
  {
   "cell_type": "code",
   "execution_count": 10,
   "outputs": [],
   "source": [
    "# noinspection PyUnreachableCode\n",
    "if False:\n",
    "    ts_percents = win_percent_ts(DSRCVW4W_Player, DSRCW4WV_Player, n_samples=200)\n",
    "    plt.figure(figsize=(10, 8), dpi=200)\n",
    "    plt.xlabel('turn #')\n",
    "    plt.ylabel('win %')\n",
    "    plt.title('Win % vs Turn # (10 samples)')\n",
    "    for i in range(ts_percents.shape[0]):\n",
    "        plt.plot(ts_percents[i, :])\n",
    "    plt.savefig('./win_perc_10.png');"
   ],
   "metadata": {
    "collapsed": false
   }
  },
  {
   "cell_type": "code",
   "execution_count": 11,
   "outputs": [],
   "source": [
    "def win_percent(your_strategy, opponent_strategy, n_players=4, n_samples=N_SAMPLES):\n",
    "    your_wins = 0\n",
    "    for _ in range(n_samples):\n",
    "        if play_game(your_strategy, opponent_strategy, n_players) == 0:\n",
    "            your_wins += 1\n",
    "    return your_wins/n_samples"
   ],
   "metadata": {
    "collapsed": false
   }
  },
  {
   "cell_type": "code",
   "execution_count": 12,
   "outputs": [],
   "source": [
    "def win_percent_hist(your_strategy, opponent_strategy, n_players=4,\n",
    "                   n_samples=1000, n_games=1000):\n",
    "    hist = np.zeros((n_samples, ))\n",
    "\n",
    "    for i in tqdm.trange(n_samples):\n",
    "        hist[i] = win_percent(your_strategy, opponent_strategy, n_players, n_games)\n",
    "\n",
    "    return hist"
   ],
   "metadata": {
    "collapsed": false
   }
  },
  {
   "cell_type": "code",
   "execution_count": 13,
   "outputs": [],
   "source": [
    "# noinspection PyUnreachableCode\n",
    "if False:\n",
    "    win_perct_hist = win_percent_hist(DSRCVW4W_Player, DSRCW4WV_Player)\n",
    "    plt.figure(figsize=(10, 8), dpi=200)\n",
    "    plt.xlabel('win %')\n",
    "    plt.ylabel('count')\n",
    "    plt.title('Historgram of Win % (N=1000)')\n",
    "    plt.hist(win_perct_hist, bins=15)\n",
    "    plt.savefig('clt_hist.png');"
   ],
   "metadata": {
    "collapsed": false
   }
  },
  {
   "cell_type": "code",
   "execution_count": 14,
   "outputs": [],
   "source": [
    "def win_percent_ci(your_strategy, opponent_strategy, n_players=4, n_samples=N_SAMPLES, n_exprs=N_EXPERIMENTS):\n",
    "    expr_percents = np.zeros(n_exprs)\n",
    "\n",
    "    for i in range(n_exprs):\n",
    "        expr_percents[i] = win_percent(your_strategy, opponent_strategy, n_players, n_samples)\n",
    "\n",
    "    mean_percent = np.mean(expr_percents)\n",
    "    moe = 2**(-n_exprs+1)\n",
    "    return (mean_percent-moe, mean_percent+moe)"
   ],
   "metadata": {
    "collapsed": false
   }
  },
  {
   "cell_type": "code",
   "execution_count": 15,
   "outputs": [],
   "source": [
    "# round, str concat two float columns as interval\n",
    "def make_CI_str_col(r, lo_col='low_prct', hi_col='high_prct'):\n",
    "    r['CI'] = f'({round(r[lo_col], 3):.3f}, {round(r[hi_col], 3):.3f})'\n",
    "    return r"
   ],
   "metadata": {
    "collapsed": false
   }
  },
  {
   "cell_type": "code",
   "execution_count": 16,
   "metadata": {},
   "outputs": [],
   "source": [
    "def simulate_games(my_player_list, opp_player_list,\n",
    "                   my_strat_names, opp_strat_names,\n",
    "                   out_file):\n",
    "    for i, my_player in enumerate(my_player_list):\n",
    "        for j, opp_player in enumerate(tqdm.tqdm((opp_player_list))):\n",
    "                # save names of strategies at play\n",
    "                my_strat_list.append(my_strat_names[i])\n",
    "                opp_strat_list.append(opp_strat_names[j])\n",
    "                # simulate 10 runs of 10K games and get a CI\n",
    "                low_perct, high_prct = win_percent_ci(my_player, opp_player)\n",
    "                # save CI\n",
    "                low_perct_list.append(low_perct)\n",
    "                high_perct_list.append(high_prct)\n",
    "\n",
    "    results_df = pd.DataFrame(\n",
    "        {\n",
    "            'my_strat':my_strat_list,\n",
    "            'opp_strat':opp_strat_list,\n",
    "            'low_prct':low_perct_list,\n",
    "            'high_prct':high_perct_list\n",
    "        }\n",
    "    )\n",
    "    # make a 'str' type column for the CI\n",
    "    results_df = results_df.apply(make_CI_str_col, axis=1)\n",
    "    # pivot the DF so we have 1 col/opponent strategy, 1 row/our strategy, 1 cell/CI\n",
    "    basic_results_df = results_df.pivot(index='my_strat', columns='opp_strat', values='CI')\n",
    "\n",
    "    # save results\n",
    "    basic_results_df.to_csv(out_file)"
   ]
  },
  {
   "cell_type": "code",
   "execution_count": 17,
   "outputs": [
    {
     "name": "stderr",
     "output_type": "stream",
     "text": [
      "100%|██████████| 4/4 [04:40<00:00, 70.24s/it]\n",
      "100%|██████████| 4/4 [05:26<00:00, 81.74s/it]\n",
      "100%|██████████| 4/4 [04:50<00:00, 72.75s/it]\n",
      "100%|██████████| 4/4 [04:51<00:00, 72.89s/it]\n"
     ]
    }
   ],
   "source": [
    "my_strategy_names = ['DSRVCW4W', 'DSRCVW4W', 'DSRCW4WV', 'DSRCW4VW']\n",
    "opp_strategy_names = ['DSRVCW4W', 'DSRCVW4W', 'DSRCW4WV', 'DSRCW4VW']\n",
    "my_strat_list, opp_strat_list = [], []\n",
    "low_perct_list, high_perct_list = [], []\n",
    "\n",
    "# analysis results in './Results/basic_results.csv'\n",
    "#   analysis took 65m 10sec\n",
    "simulate_games(\n",
    "    (DSRVCW4W_Player, DSRCVW4W_Player, DSRCW4WV_Player, DSRCW4VW_Player),\n",
    "    (DSRVCW4W_Player, DSRCVW4W_Player, DSRCW4WV_Player, DSRCW4VW_Player),\n",
    "    my_strategy_names,\n",
    "    opp_strategy_names,\n",
    "    'Results/basic_results.csv'\n",
    ")"
   ],
   "metadata": {
    "collapsed": false
   }
  }
 ],
 "metadata": {
  "kernelspec": {
   "display_name": "UW_AMATH",
   "language": "python",
   "name": "python3"
  },
  "language_info": {
   "codemirror_mode": {
    "name": "ipython",
    "version": 3
   },
   "file_extension": ".py",
   "mimetype": "text/x-python",
   "name": "python",
   "nbconvert_exporter": "python",
   "pygments_lexer": "ipython3",
   "version": "3.10.11"
  },
  "orig_nbformat": 4
 },
 "nbformat": 4,
 "nbformat_minor": 2
}
