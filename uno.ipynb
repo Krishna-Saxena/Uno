{
 "cells": [
  {
   "cell_type": "code",
   "execution_count": 1,
   "metadata": {},
   "outputs": [],
   "source": [
    "import random\n",
    "\n",
    "import numpy as np\n",
    "\n",
    "from Uno.Game import Game\n",
    "from Uno.Players.WDSRVCW4_Player import WDSRVCW4_Player\n",
    "from Uno.Players.DSRVCWW4_Player import DSRVCWW4_Player"
   ]
  },
  {
   "attachments": {},
   "cell_type": "markdown",
   "metadata": {},
   "source": [
    "## Manually Simulate a Game\n",
    "(for fun/leisure)"
   ]
  },
  {
   "cell_type": "code",
   "execution_count": 2,
   "metadata": {},
   "outputs": [
    {
     "name": "stdout",
     "output_type": "stream",
     "text": [
      "\n",
      "Deck: [BLUE N5,GREEN N9,YELLOW N3,RED N8,YELLOW N1]\n",
      "Discard: []\n",
      "\n",
      "Turn: 0\n",
      "0:\t7 [YELLOW N6,YELLOW N5,YELLOW DRAW2,RED N2,GREEN N0,RED N7,GREEN N6]\n",
      "1:\t7 [BLUE N4,GREEN N1,YELLOW N9,BLUE N2,BLUE N0,BLUE N2,BLUE N1]\n",
      "2:\t7 [GREEN N5,BLUE N3,GREEN N2,GREEN DRAW2,BLUE N4,GREEN N2,YELLOW N5]\n",
      "3:\t7 [BLUE DRAW2,RED N1,RED N1,BLUE SKIP,YELLOW N2,RED REV,BLUE REV]\n",
      "        \n"
     ]
    }
   ],
   "source": [
    "# set up the players\n",
    "players = [WDSRVCW4_Player(), WDSRVCW4_Player(), WDSRVCW4_Player(), WDSRVCW4_Player()]\n",
    "\n",
    "# create a game (with 381 as the random seed)\n",
    "#   change the random seed to get a new game\n",
    "\n",
    "#   when the seed is 787 and all 4 players are WDSRVCW4_Player\n",
    "#       the game lasts a long time\n",
    "game = Game(players, 381)\n",
    "print(game)"
   ]
  },
  {
   "cell_type": "code",
   "execution_count": 3,
   "metadata": {},
   "outputs": [
    {
     "name": "stdout",
     "output_type": "stream",
     "text": [
      "\n",
      "Deck: [GREEN N9,YELLOW N3,RED N8,YELLOW N1,YELLOW N4]\n",
      "Discard: [BLUE N5]\n",
      "\n",
      "Turn: 0\n",
      "0:\t7 [YELLOW N6,YELLOW N5,YELLOW DRAW2,RED N2,GREEN N0,RED N7,GREEN N6]\n",
      "1:\t7 [BLUE N4,GREEN N1,YELLOW N9,BLUE N2,BLUE N0,BLUE N2,BLUE N1]\n",
      "2:\t7 [GREEN N5,BLUE N3,GREEN N2,GREEN DRAW2,BLUE N4,GREEN N2,YELLOW N5]\n",
      "3:\t7 [BLUE DRAW2,RED N1,RED N1,BLUE SKIP,YELLOW N2,RED REV,BLUE REV]\n",
      "        \n"
     ]
    }
   ],
   "source": [
    "# run the setup step\n",
    "game.setup_round()\n",
    "print(game)"
   ]
  },
  {
   "cell_type": "code",
   "execution_count": 4,
   "metadata": {},
   "outputs": [
    {
     "name": "stdout",
     "output_type": "stream",
     "text": [
      "\n",
      "Deck: [GREEN N9,YELLOW N3,RED N8,YELLOW N1,YELLOW N4]\n",
      "Discard: [YELLOW N5,BLUE N5]\n",
      "\n",
      "Turn: 1\n",
      "0:\t6 [YELLOW DRAW2,YELLOW N6,RED N2,GREEN N0,RED N7,GREEN N6]\n",
      "1:\t7 [BLUE N4,GREEN N1,YELLOW N9,BLUE N2,BLUE N0,BLUE N2,BLUE N1]\n",
      "2:\t7 [GREEN N5,BLUE N3,GREEN N2,GREEN DRAW2,BLUE N4,GREEN N2,YELLOW N5]\n",
      "3:\t7 [BLUE DRAW2,RED N1,RED N1,BLUE SKIP,YELLOW N2,RED REV,BLUE REV]\n",
      "        \n"
     ]
    }
   ],
   "source": [
    "# to play more rounds:\n",
    "#  please re-run this cell until a player runs out of cards\n",
    "\n",
    "# play rounds until a winner emerges\n",
    "winner = game.round()\n",
    "print(game)\n",
    "if winner != -1:\n",
    "    print('WINNER: ', winner)"
   ]
  },
  {
   "attachments": {},
   "cell_type": "markdown",
   "metadata": {},
   "source": [
    "# Sampling"
   ]
  },
  {
   "cell_type": "code",
   "execution_count": 5,
   "metadata": {
    "collapsed": false
   },
   "outputs": [],
   "source": [
    "N_SAMPLES = 10000\n",
    "N_EXPERIMENTS = 10"
   ]
  },
  {
   "cell_type": "code",
   "execution_count": 6,
   "metadata": {
    "collapsed": false
   },
   "outputs": [],
   "source": [
    "def play_game(your_strategy, opponent_strategy, n_players=4):\n",
    "    # set up the players\n",
    "    players = [None]*n_players\n",
    "    players[0] = your_strategy()\n",
    "    for i in range(1, n_players):\n",
    "        players[i] = opponent_strategy()\n",
    "    # create a game\n",
    "    game = Game(players, None) # no seed\n",
    "    game.setup_round()\n",
    "    # play rounds until a winner emerges\n",
    "    winner = game.round()\n",
    "    while winner == -1:\n",
    "        winner = game.round()\n",
    "    return winner"
   ]
  },
  {
   "cell_type": "code",
   "execution_count": 7,
   "metadata": {
    "collapsed": false
   },
   "outputs": [],
   "source": [
    "def win_percent(your_strategy, opponent_strategy, n_players=4, n_samples=N_SAMPLES):\n",
    "    your_wins = 0\n",
    "    for _ in range(n_samples):\n",
    "        if play_game(your_strategy, opponent_strategy, n_players) == 0:\n",
    "            your_wins += 1\n",
    "    return your_wins/n_samples"
   ]
  },
  {
   "cell_type": "code",
   "execution_count": 8,
   "metadata": {
    "collapsed": false
   },
   "outputs": [],
   "source": [
    "def win_percent_ci(your_strategy, opponent_strategy, n_players=4, n_samples=N_SAMPLES, n_exprs=N_EXPERIMENTS):\n",
    "    expr_percents = np.zeros(n_exprs)\n",
    "\n",
    "    for i in range(n_exprs):\n",
    "        expr_percents[i] = win_percent(your_strategy, opponent_strategy, n_players, n_samples)\n",
    "\n",
    "    mean_percent = np.mean(expr_percents)\n",
    "    moe = 2**(-n_exprs+1)\n",
    "    return (mean_percent-moe, mean_percent+moe)"
   ]
  },
  {
   "cell_type": "code",
   "execution_count": 9,
   "metadata": {
    "collapsed": false
   },
   "outputs": [
    {
     "data": {
      "text/plain": [
       "(0.22006687500000002, 0.22397312500000002)"
      ]
     },
     "execution_count": 9,
     "metadata": {},
     "output_type": "execute_result"
    }
   ],
   "source": [
    "win_percent_ci(WDSRVCW4_Player, DSRVCWW4_Player)"
   ]
  }
 ],
 "metadata": {
  "kernelspec": {
   "display_name": "UW_AMATH",
   "language": "python",
   "name": "python3"
  },
  "language_info": {
   "codemirror_mode": {
    "name": "ipython",
    "version": 3
   },
   "file_extension": ".py",
   "mimetype": "text/x-python",
   "name": "python",
   "nbconvert_exporter": "python",
   "pygments_lexer": "ipython3",
   "version": "3.10.11"
  },
  "orig_nbformat": 4
 },
 "nbformat": 4,
 "nbformat_minor": 2
}
