{
 "cells": [
  {
   "cell_type": "code",
   "execution_count": 24,
   "metadata": {},
   "outputs": [],
   "source": [
    "import random\n",
    "\n",
    "import numpy as np\n",
    "import pandas as pd\n",
    "\n",
    "from Uno.Game import Game\n",
    "from Players.WDSRVCW4_Player import WDSRVCW4_Player\n",
    "from Players.WDSRCVW4_Player import WDSRCVW4_Player\n",
    "from Players.DSRVCWW4_Player import DSRVCWW4_Player\n",
    "from Players.DSRCVWW4_Player import DSRCVWW4_Player\n",
    "from Players.SRCVWDW4_Player import SRCVWDW4_Player\n",
    "from Players.SRVCWDW4_Player import SRVCWDW4_Player"
   ]
  },
  {
   "attachments": {},
   "cell_type": "markdown",
   "metadata": {},
   "source": [
    "## Manually Simulate a Game\n",
    "(for your fun/leisure)  \n",
    "this code is also used to debug game rules"
   ]
  },
  {
   "cell_type": "code",
   "execution_count": 25,
   "metadata": {},
   "outputs": [
    {
     "name": "stdout",
     "output_type": "stream",
     "text": [
      "\n",
      "Deck: [BLUE N5,GREEN N9,YELLOW N3,RED N8,YELLOW N1]\n",
      "Discard: []\n",
      "\n",
      "Turn: 0\n",
      "0:\t7 [YELLOW N6,YELLOW N5,YELLOW DRAW2,RED N2,GREEN N0,RED N7,GREEN N6]\n",
      "1:\t7 [BLUE N4,GREEN N1,YELLOW N9,BLUE N2,BLUE N0,BLUE N2,BLUE N1]\n",
      "2:\t7 [GREEN N5,BLUE N3,GREEN N2,GREEN DRAW2,BLUE N4,GREEN N2,YELLOW N5]\n",
      "3:\t7 [BLUE DRAW2,RED N1,RED N1,BLUE SKIP,YELLOW N2,RED REV,BLUE REV]\n",
      "        \n"
     ]
    }
   ],
   "source": [
    "# set up the players\n",
    "players = [WDSRVCW4_Player(), WDSRVCW4_Player(), WDSRVCW4_Player(), WDSRVCW4_Player()]\n",
    "\n",
    "# create a game (with 381 as the random seed)\n",
    "#   change the random seed to get a new game\n",
    "\n",
    "#   when the seed is 787 and all 4 players are WDSRVCW4_Player\n",
    "#       the game lasts a long time\n",
    "game = Game(players, 381)\n",
    "print(game)"
   ]
  },
  {
   "cell_type": "code",
   "execution_count": 26,
   "metadata": {},
   "outputs": [
    {
     "name": "stdout",
     "output_type": "stream",
     "text": [
      "\n",
      "Deck: [GREEN N9,YELLOW N3,RED N8,YELLOW N1,YELLOW N4]\n",
      "Discard: [BLUE N5]\n",
      "\n",
      "Turn: 0\n",
      "0:\t7 [YELLOW N6,YELLOW N5,YELLOW DRAW2,RED N2,GREEN N0,RED N7,GREEN N6]\n",
      "1:\t7 [BLUE N4,GREEN N1,YELLOW N9,BLUE N2,BLUE N0,BLUE N2,BLUE N1]\n",
      "2:\t7 [GREEN N5,BLUE N3,GREEN N2,GREEN DRAW2,BLUE N4,GREEN N2,YELLOW N5]\n",
      "3:\t7 [BLUE DRAW2,RED N1,RED N1,BLUE SKIP,YELLOW N2,RED REV,BLUE REV]\n",
      "        \n"
     ]
    }
   ],
   "source": [
    "# run the setup step\n",
    "game.setup_round()\n",
    "print(game)"
   ]
  },
  {
   "cell_type": "code",
   "execution_count": 28,
   "metadata": {},
   "outputs": [
    {
     "name": "stdout",
     "output_type": "stream",
     "text": [
      "\n",
      "Deck: [GREEN N9,YELLOW N3,RED N8,YELLOW N1,YELLOW N4]\n",
      "Discard: [YELLOW N9,YELLOW N5,BLUE N5]\n",
      "\n",
      "Turn: 2\n",
      "0:\t6 [YELLOW DRAW2,YELLOW N6,RED N2,GREEN N0,RED N7,GREEN N6]\n",
      "1:\t6 [BLUE N4,GREEN N1,BLUE N2,BLUE N0,BLUE N2,BLUE N1]\n",
      "2:\t7 [GREEN N5,BLUE N3,GREEN N2,GREEN DRAW2,BLUE N4,GREEN N2,YELLOW N5]\n",
      "3:\t7 [BLUE DRAW2,RED N1,RED N1,BLUE SKIP,YELLOW N2,RED REV,BLUE REV]\n",
      "        \n"
     ]
    }
   ],
   "source": [
    "# to play more rounds:\n",
    "#  please re-run this cell until a player runs out of cards\n",
    "\n",
    "# play rounds until a winner emerges\n",
    "winner = game.round()\n",
    "print(game)\n",
    "if winner != -1:\n",
    "    print('WINNER: ', winner)"
   ]
  },
  {
   "attachments": {},
   "cell_type": "markdown",
   "metadata": {},
   "source": [
    "# Sampling"
   ]
  },
  {
   "cell_type": "code",
   "execution_count": 5,
   "metadata": {
    "collapsed": false
   },
   "outputs": [],
   "source": [
    "N_SAMPLES = 10000\n",
    "N_EXPERIMENTS = 10"
   ]
  },
  {
   "cell_type": "code",
   "execution_count": 6,
   "metadata": {
    "collapsed": false
   },
   "outputs": [],
   "source": [
    "def play_game(your_strategy, opponent_strategy, n_players=4):\n",
    "    # set up the players\n",
    "    players = [None]*n_players\n",
    "    players[0] = your_strategy()\n",
    "    for i in range(1, n_players):\n",
    "        players[i] = opponent_strategy()\n",
    "    # create a game\n",
    "    #   no seed for maximum randomness\n",
    "    game = Game(players, None)\n",
    "    game.setup_round()\n",
    "    # play rounds until a winner emerges\n",
    "    winner = game.round()\n",
    "    while winner == -1:\n",
    "        winner = game.round()\n",
    "    return winner"
   ]
  },
  {
   "cell_type": "code",
   "execution_count": 7,
   "metadata": {
    "collapsed": false
   },
   "outputs": [],
   "source": [
    "def win_percent(your_strategy, opponent_strategy, n_players=4, n_samples=N_SAMPLES):\n",
    "    your_wins = 0\n",
    "    for _ in range(n_samples):\n",
    "        if play_game(your_strategy, opponent_strategy, n_players) == 0:\n",
    "            your_wins += 1\n",
    "    return your_wins/n_samples"
   ]
  },
  {
   "cell_type": "code",
   "execution_count": 8,
   "metadata": {
    "collapsed": false
   },
   "outputs": [],
   "source": [
    "def win_percent_ci(your_strategy, opponent_strategy, n_players=4, n_samples=N_SAMPLES, n_exprs=N_EXPERIMENTS):\n",
    "    expr_percents = np.zeros(n_exprs)\n",
    "\n",
    "    for i in range(n_exprs):\n",
    "        expr_percents[i] = win_percent(your_strategy, opponent_strategy, n_players, n_samples)\n",
    "\n",
    "    mean_percent = np.mean(expr_percents)\n",
    "    moe = 2**(-n_exprs+1)\n",
    "    return (mean_percent-moe, mean_percent+moe)"
   ]
  },
  {
   "cell_type": "code",
   "execution_count": null,
   "metadata": {},
   "outputs": [],
   "source": [
    "# round, str concat two float columns as interval\n",
    "def make_CI_str_col(r, lo_col='low_prct', hi_col='high_prct'):\n",
    "    r['CI'] = f'({round(r[lo_col], 3):.3f}, {round(r[hi_col], 3):.3f})'\n",
    "    return r"
   ]
  },
  {
   "cell_type": "code",
   "execution_count": 9,
   "metadata": {},
   "outputs": [],
   "source": [
    "from Players.WDSRVCW4_Player import WDSRVCW4_Player\n",
    "from Players.WDSRCVW4_Player import WDSRCVW4_Player\n",
    "from Players.DSRVCWW4_Player import DSRVCWW4_Player\n",
    "from Players.DSRCVWW4_Player import DSRCVWW4_Player\n",
    "from Players.SRCVWDW4_Player import SRCVWDW4_Player\n",
    "from Players.SRVCWDW4_Player import SRVCWDW4_Player"
   ]
  },
  {
   "cell_type": "code",
   "execution_count": 11,
   "metadata": {
    "collapsed": false
   },
   "outputs": [],
   "source": [
    "strategy_names = ['WDSRVCW4', 'WDSRCVW4', 'DSRVCWW4', 'DSRCVWW4', 'SRCVWDW4', 'SRVCWDW4']\n",
    "my_strat_list, opp_strat_list = [], []\n",
    "low_perct_list, high_perct_list = [], []\n",
    "\n",
    "# analysis results in './Results/basic_results.csv'\n",
    "#   analysis took 65m 10sec\n",
    "if False:\n",
    "    simulate_games(\n",
    "        (WDSRVCW4_Player, WDSRCVW4_Player, DSRVCWW4_Player,\n",
    "         DSRCVWW4_Player, SRCVWDW4_Player, SRVCWDW4_Player),\n",
    "        ['WDSRVCW4', 'WDSRCVW4', 'DSRVCWW4', 'DSRCVWW4', 'SRCVWDW4', 'SRVCWDW4'],\n",
    "        'Results/basic_results.csv'\n",
    "    )"
   ]
  },
  {
   "cell_type": "code",
   "execution_count": null,
   "metadata": {},
   "outputs": [],
   "source": [
    "def simulate_games(player_list, strategy_names, out_file):\n",
    "    for i, my_player in enumerate(player_list):\n",
    "        for j, opp_player in enumerate(player_list):\n",
    "                # save names of strategies at play\n",
    "                my_strat_list.append(strategy_names[i])\n",
    "                opp_strat_list.append(strategy_names[j])\n",
    "                # simulate 10 runs of 10K games and get a CI\n",
    "                low_perct, high_prct = win_percent_ci(my_player, opp_player)\n",
    "                # save CI\n",
    "                low_perct_list.append(low_perct)\n",
    "                high_perct_list.append(high_prct)\n",
    "\n",
    "        results_df = pd.DataFrame({\n",
    "        'my_strat':my_strat_list,\n",
    "        'opp_strat':opp_strat_list,\n",
    "        'low_prct':low_perct_list,\n",
    "        'high_prct':high_perct_list\n",
    "        })\n",
    "    # make a 'str' type column for the CI\n",
    "    results_df = results_df.apply(make_CI_str_col, axis=1)\n",
    "    # pivot the DF so we have 1 col/opponent strategy, 1 row/our strategy, 1 cell/CI\n",
    "    basic_results_df = results_df.pivot(index='my_strat', columns='opp_strat', values='CI')\n",
    "    if False:\n",
    "        # save results\n",
    "        basic_results_df.to_csv(out_file)"
   ]
  }
 ],
 "metadata": {
  "kernelspec": {
   "display_name": "UW_AMATH",
   "language": "python",
   "name": "python3"
  },
  "language_info": {
   "codemirror_mode": {
    "name": "ipython",
    "version": 3
   },
   "file_extension": ".py",
   "mimetype": "text/x-python",
   "name": "python",
   "nbconvert_exporter": "python",
   "pygments_lexer": "ipython3",
   "version": "3.10.11"
  },
  "orig_nbformat": 4
 },
 "nbformat": 4,
 "nbformat_minor": 2
}
